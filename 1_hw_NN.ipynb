{
 "cells": [
  {
   "cell_type": "markdown",
   "metadata": {
    "id": "vBvuSQtdCyPq"
   },
   "source": [
    "### Задание № 1 Ultra Lite\n",
    "\n",
    "\n",
    "#### Введение в нейронные сети"
   ]
  },
  {
   "cell_type": "markdown",
   "metadata": {
    "id": "nqZpzs2nBs63"
   },
   "source": [
    "Перепишите ноутбук по распознаванию рукописных цифр, восстановив следующие операции:\n",
    "\n",
    "1. Импорт библиотек.\n",
    "2. Загрузка базы mnist.\n",
    "3. Нормирование и преобразование x_train и y_train.\n",
    "4. Создание нейронной сети.\n",
    "5. Обучение нейронной сети.\n",
    "\n",
    "\n",
    "*Можно смотреть в ноутбук с занятия, но код необходимо писать самостоятельно."
   ]
  },
  {
   "cell_type": "markdown",
   "metadata": {
    "id": "qLX9aj3eFCPB"
   },
   "source": [
    "#### 1. Импорт библиотек."
   ]
  },
  {
   "cell_type": "code",
   "execution_count": 12,
   "metadata": {
    "id": "co9Q1s42SciM"
   },
   "outputs": [],
   "source": [
    "from tensorflow.keras.datasets import mnist #Библиотека с базой Mnist\n",
    "from tensorflow.keras.models import Sequential # Подлючаем класс создания модели Sequential\n",
    "from tensorflow.keras.layers import Dense # Подключаем класс Dense - полносвязный слой\n",
    "from tensorflow.keras.optimizers import Adam # Подключаем оптимизатор Adam\n",
    "from tensorflow.keras import utils #Утилиты для to_categorical\n",
    "from tensorflow.keras.preprocessing import image #Для отрисовки изображения\n",
    "import numpy as np # Подключаем библиотеку numpy\n",
    "import pylab # Модуль для построения графиков\n",
    "from mpl_toolkits.mplot3d import Axes3D # Модуль для трехмерной графики\n",
    "import matplotlib.pyplot as plt #Отрисовка изображений\n",
    "from PIL import Image #Отрисовка изображений\n",
    "%matplotlib inline "
   ]
  },
  {
   "cell_type": "markdown",
   "metadata": {},
   "source": [
    "#### 2. Загрузка базы mnist."
   ]
  },
  {
   "cell_type": "code",
   "execution_count": 13,
   "metadata": {
    "colab": {
     "base_uri": "https://localhost:8080/"
    },
    "id": "xnYVjcnJC4TY",
    "outputId": "cb7ce7ef-eda0-4dca-cb85-e1779cd09ea6",
    "scrolled": true
   },
   "outputs": [],
   "source": [
    "(x_train_org, y_train_org), (x_test_org, y_test_org) = mnist.load_data() \n"
   ]
  },
  {
   "cell_type": "code",
   "execution_count": 14,
   "metadata": {
    "colab": {
     "base_uri": "https://localhost:8080/",
     "height": 265
    },
    "id": "ts-z0Oh_EJJ_",
    "outputId": "3f2826d5-2532-47ed-bbd9-3b20b2682346"
   },
   "outputs": [
    {
     "data": {
      "image/png": "[encoded data removed]",
      "text/plain": [
       "<Figure size 432x288 with 1 Axes>"
      ]
     },
     "metadata": {
      "needs_background": "light"
     },
     "output_type": "display_data"
    }
   ],
   "source": [
    "n = 144 #Номер картинки\n",
    "plt.imshow(Image.fromarray(x_train_org[n]).convert('RGB')) #Отрисовка картинки\n",
    "plt.show() # Вывод картинки"
   ]
  },
  {
   "cell_type": "code",
   "execution_count": 15,
   "metadata": {
    "colab": {
     "base_uri": "https://localhost:8080/"
    },
    "id": "3D8FrTQMx8cs",
    "outputId": "92068967-5318-4c0e-f476-65482ecd6989"
   },
   "outputs": [
    {
     "data": {
      "text/plain": [
       "8"
      ]
     },
     "execution_count": 15,
     "metadata": {},
     "output_type": "execute_result"
    }
   ],
   "source": [
    "y_train_org[n]"
   ]
  },
  {
   "cell_type": "markdown",
   "metadata": {},
   "source": [
    "#### 3. Нормирование и преобразование x_train и y_train."
   ]
  },
  {
   "cell_type": "code",
   "execution_count": 16,
   "metadata": {
    "colab": {
     "base_uri": "https://localhost:8080/"
    },
    "id": "StxOw0C6EQQd",
    "outputId": "050fd21e-faa3-489f-b13c-fea2ff31b91b"
   },
   "outputs": [
    {
     "name": "stdout",
     "output_type": "stream",
     "text": [
      "(60000, 28, 28)\n",
      "(60000, 784)\n"
     ]
    }
   ],
   "source": [
    "#Меняем формат входных картинок с 28х28 на 784х1\n",
    "x_train = x_train_org.reshape(60000, 784)\n",
    "x_test = x_test_org.reshape(10000, 784)\n",
    "print(x_train_org.shape)\n",
    "print(x_train.shape)"
   ]
  },
  {
   "cell_type": "code",
   "execution_count": 17,
   "metadata": {
    "id": "R5cW-u8eEXBN"
   },
   "outputs": [],
   "source": [
    "#Нормализуем входные картинки\n",
    "x_train = x_train.astype('float32') # преобразовываем x_train в тип float \n",
    "x_train = x_train / 255 # делим на 255, чтобы диапазон был от 0 до 1\n",
    "x_test = x_test.astype('float32') # преобразовываем x_test в тип float \n",
    "x_test = x_test / 255 # делим на 255, чтобы диапазон был от 0 до 1"
   ]
  },
  {
   "cell_type": "code",
   "execution_count": 18,
   "metadata": {
    "colab": {
     "base_uri": "https://localhost:8080/"
    },
    "id": "BHfS_QDay14q",
    "outputId": "531640de-578d-49ec-cc1f-e349e306a723"
   },
   "outputs": [
    {
     "data": {
      "text/plain": [
       "5"
      ]
     },
     "execution_count": 18,
     "metadata": {},
     "output_type": "execute_result"
    }
   ],
   "source": [
    "y_train_org[0]"
   ]
  },
  {
   "cell_type": "code",
   "execution_count": 19,
   "metadata": {
    "id": "zrxFxFA5EsVU"
   },
   "outputs": [],
   "source": [
    "# Преобразуем ответы в формат one_hot_encoding\n",
    "y_train = utils.to_categorical(y_train_org, 10)\n",
    "y_test = utils.to_categorical(y_test_org, 10)"
   ]
  },
  {
   "cell_type": "code",
   "execution_count": 20,
   "metadata": {
    "colab": {
     "base_uri": "https://localhost:8080/"
    },
    "id": "7AiDf79FE2Xk",
    "outputId": "14dff684-64ac-4522-fb9f-64004e95cfca"
   },
   "outputs": [
    {
     "name": "stdout",
     "output_type": "stream",
     "text": [
      "(60000, 10)\n"
     ]
    }
   ],
   "source": [
    "#Выводим размер y_train\n",
    "#60 тысяч примеров, каждый размера 10 (так как 10 классов)\n",
    "print(y_train.shape)"
   ]
  },
  {
   "cell_type": "code",
   "execution_count": 21,
   "metadata": {
    "colab": {
     "base_uri": "https://localhost:8080/"
    },
    "id": "i7MZ1HbBE7me",
    "outputId": "4973487c-206a-42ad-8196-edcc69c5dba3"
   },
   "outputs": [
    {
     "name": "stdout",
     "output_type": "stream",
     "text": [
      "[0. 0. 0. 0. 0. 1. 0. 0. 0. 0.]\n"
     ]
    }
   ],
   "source": [
    "print(y_train[0]) #Выводим пример одного выходного вектора"
   ]
  },
  {
   "cell_type": "code",
   "execution_count": 22,
   "metadata": {
    "colab": {
     "base_uri": "https://localhost:8080/"
    },
    "id": "LyIjTL5BNxus",
    "outputId": "679b525e-da90-4642-91ad-754e8d47596b"
   },
   "outputs": [
    {
     "name": "stdout",
     "output_type": "stream",
     "text": [
      "(60000,)\n"
     ]
    }
   ],
   "source": [
    "print(y_train_org.shape)"
   ]
  },
  {
   "cell_type": "code",
   "execution_count": 23,
   "metadata": {
    "colab": {
     "base_uri": "https://localhost:8080/"
    },
    "id": "L6kqzxeiN0IK",
    "outputId": "ff2ad514-f783-41c5-f32a-52c80ec10e80"
   },
   "outputs": [
    {
     "name": "stdout",
     "output_type": "stream",
     "text": [
      "6\n"
     ]
    }
   ],
   "source": [
    "print(y_train_org[36])"
   ]
  },
  {
   "cell_type": "markdown",
   "metadata": {
    "id": "TR6ua7t7FEzn"
   },
   "source": [
    "#### 4. Создание нейронной сети."
   ]
  },
  {
   "cell_type": "code",
   "execution_count": 24,
   "metadata": {
    "id": "odi8yVyxE-w5"
   },
   "outputs": [],
   "source": [
    "model = Sequential() # Создаём сеть прямого распространения\n",
    "model.add(Dense(800, input_dim=784, activation=\"relu\")) # Добавляем полносвязный слой на 800 нейронов с relu-активацией\n",
    "model.add(Dense(400, activation=\"relu\")) # Добавляем полносвязный слой на 400 нейронов с relu-активацией\n",
    "model.add(Dense(10, activation=\"softmax\")) # Добавляем полносвязный слой на 10 нейронов с softmax-активацией"
   ]
  },
  {
   "cell_type": "code",
   "execution_count": 25,
   "metadata": {
    "colab": {
     "base_uri": "https://localhost:8080/"
    },
    "id": "6EMUkxTqFkc1",
    "outputId": "9f888c69-02cd-49cf-f2e3-6ba9a5a27359"
   },
   "outputs": [
    {
     "name": "stdout",
     "output_type": "stream",
     "text": [
      "Model: \"sequential\"\n",
      "_________________________________________________________________\n",
      "Layer (type)                 Output Shape              Param #   \n",
      "=================================================================\n",
      "dense (Dense)                (None, 800)               628000    \n",
      "_________________________________________________________________\n",
      "dense_1 (Dense)              (None, 400)               320400    \n",
      "_________________________________________________________________\n",
      "dense_2 (Dense)              (None, 10)                4010      \n",
      "=================================================================\n",
      "Total params: 952,410\n",
      "Trainable params: 952,410\n",
      "Non-trainable params: 0\n",
      "_________________________________________________________________\n",
      "None\n"
     ]
    }
   ],
   "source": [
    "model.compile(loss=\"categorical_crossentropy\", optimizer=\"adam\", metrics=[\"accuracy\"]) # Компилируем модель\n",
    "print(model.summary()) #Вывод структуры модели"
   ]
  },
  {
   "cell_type": "markdown",
   "metadata": {
    "id": "H4WWjjxnF3qn"
   },
   "source": [
    "#### 5. Обучение нейронной сети."
   ]
  },
  {
   "cell_type": "code",
   "execution_count": 26,
   "metadata": {
    "colab": {
     "base_uri": "https://localhost:8080/",
     "height": 544
    },
    "id": "tzArU3n3F6Lo",
    "outputId": "905e6634-7e13-414f-ae16-cfbd6efbe267"
   },
   "outputs": [
    {
     "name": "stdout",
     "output_type": "stream",
     "text": [
      "Epoch 1/15\n",
      "469/469 [==============================] - 3s 6ms/step - loss: 0.2029 - accuracy: 0.9401\n",
      "Epoch 2/15\n",
      "469/469 [==============================] - 3s 6ms/step - loss: 0.0749 - accuracy: 0.9770\n",
      "Epoch 3/15\n",
      "469/469 [==============================] - 3s 6ms/step - loss: 0.0485 - accuracy: 0.9842\n",
      "Epoch 4/15\n",
      "469/469 [==============================] - 3s 6ms/step - loss: 0.0329 - accuracy: 0.9890\n",
      "Epoch 5/15\n",
      "469/469 [==============================] - 3s 6ms/step - loss: 0.0263 - accuracy: 0.9915\n",
      "Epoch 6/15\n",
      "469/469 [==============================] - 3s 6ms/step - loss: 0.0195 - accuracy: 0.9935\n",
      "Epoch 7/15\n",
      "469/469 [==============================] - 3s 6ms/step - loss: 0.0199 - accuracy: 0.9938\n",
      "Epoch 8/15\n",
      "469/469 [==============================] - 3s 6ms/step - loss: 0.0145 - accuracy: 0.9952\n",
      "Epoch 9/15\n",
      "469/469 [==============================] - 3s 6ms/step - loss: 0.0147 - accuracy: 0.9953\n",
      "Epoch 10/15\n",
      "469/469 [==============================] - 3s 6ms/step - loss: 0.0114 - accuracy: 0.9959\n",
      "Epoch 11/15\n",
      "469/469 [==============================] - 3s 6ms/step - loss: 0.0152 - accuracy: 0.9948\n",
      "Epoch 12/15\n",
      "469/469 [==============================] - 3s 6ms/step - loss: 0.0107 - accuracy: 0.9967\n",
      "Epoch 13/15\n",
      "469/469 [==============================] - 3s 6ms/step - loss: 0.0087 - accuracy: 0.9972\n",
      "Epoch 14/15\n",
      "469/469 [==============================] - 3s 6ms/step - loss: 0.0084 - accuracy: 0.9972\n",
      "Epoch 15/15\n",
      "469/469 [==============================] - 3s 7ms/step - loss: 0.0092 - accuracy: 0.9971\n"
     ]
    },
    {
     "data": {
      "text/plain": [
       "<keras.callbacks.History at 0x7fa8ca137700>"
      ]
     },
     "execution_count": 26,
     "metadata": {},
     "output_type": "execute_result"
    }
   ],
   "source": [
    "model.fit(x_train, y_train, batch_size=128, epochs=15, verbose=1)"
   ]
  },
  {
   "cell_type": "code",
   "execution_count": 27,
   "metadata": {
    "id": "nmxH0W_QSOIX"
   },
   "outputs": [],
   "source": [
    "model.save_weights('model.h5')\n",
    "model.load_weights('model.h5')"
   ]
  },
  {
   "cell_type": "code",
   "execution_count": 28,
   "metadata": {
    "colab": {
     "base_uri": "https://localhost:8080/",
     "height": 265
    },
    "id": "ydE7Bb-5G82-",
    "outputId": "55dc129c-8624-49ce-dd99-2b9e91012fcf"
   },
   "outputs": [
    {
     "data": {
      "image/png": "[encoded data removed]",
      "text/plain": [
       "<Figure size 432x288 with 1 Axes>"
      ]
     },
     "metadata": {
      "needs_background": "light"
     },
     "output_type": "display_data"
    }
   ],
   "source": [
    "n_rec = 389 #Номер тестовой цифры, которую будем распознавать\n",
    "plt.imshow(Image.fromarray(x_test_org[n_rec]).convert('RGBA')) # Нарисуем картинку из тестового набора под номером n_rec\n",
    "plt.show()"
   ]
  },
  {
   "cell_type": "code",
   "execution_count": 29,
   "metadata": {
    "colab": {
     "base_uri": "https://localhost:8080/",
     "height": 34
    },
    "id": "_85gvY6uHABc",
    "outputId": "5d218a79-c3cb-4eb3-980a-204fee09cca2"
   },
   "outputs": [
    {
     "name": "stdout",
     "output_type": "stream",
     "text": [
      "(784,)\n"
     ]
    }
   ],
   "source": [
    "#Выбираем нужную картинку из тестовой выборки\n",
    "x = x_test[n_rec]\n",
    "print(x.shape)"
   ]
  },
  {
   "cell_type": "code",
   "execution_count": 30,
   "metadata": {
    "colab": {
     "base_uri": "https://localhost:8080/",
     "height": 34
    },
    "id": "IljyFhj0HPPC",
    "outputId": "c0a72e25-ffe7-4655-a774-c9dc0fcf2836"
   },
   "outputs": [
    {
     "name": "stdout",
     "output_type": "stream",
     "text": [
      "(1, 784)\n"
     ]
    }
   ],
   "source": [
    "#Добавляем одну размерность в конце, чтобы нейронка могла распознать пример\n",
    "\n",
    "x = np.expand_dims(x, axis=0)\n",
    "print(x.shape)"
   ]
  },
  {
   "cell_type": "code",
   "execution_count": 31,
   "metadata": {
    "id": "VigT6aeAHQ91"
   },
   "outputs": [],
   "source": [
    "prediction = model.predict(x) #Распознаём наш пример"
   ]
  },
  {
   "cell_type": "code",
   "execution_count": 32,
   "metadata": {
    "colab": {
     "base_uri": "https://localhost:8080/",
     "height": 51
    },
    "id": "fGF9xUCRHSOE",
    "outputId": "41313d6c-5d31-433d-95d1-5bc4e1ef8f2f"
   },
   "outputs": [
    {
     "name": "stdout",
     "output_type": "stream",
     "text": [
      "[[2.6328334e-12 1.5480951e-10 2.1149035e-12 5.4363957e-12 1.2948115e-04\n",
      "  3.5995991e-11 3.1527794e-15 4.4828575e-06 2.9975855e-10 9.9986601e-01]]\n"
     ]
    }
   ],
   "source": [
    "print(prediction) #Выводим результат"
   ]
  },
  {
   "cell_type": "code",
   "execution_count": 33,
   "metadata": {
    "colab": {
     "base_uri": "https://localhost:8080/",
     "height": 34
    },
    "id": "LKR0oFGAYyFi",
    "outputId": "4f98a8f4-8b2c-444b-b864-48732b827441"
   },
   "outputs": [
    {
     "data": {
      "text/plain": [
       "0.999999973268661"
      ]
     },
     "execution_count": 33,
     "metadata": {},
     "output_type": "execute_result"
    }
   ],
   "source": [
    "sum(prediction[0])"
   ]
  },
  {
   "cell_type": "code",
   "execution_count": 34,
   "metadata": {
    "colab": {
     "base_uri": "https://localhost:8080/",
     "height": 34
    },
    "id": "9pg67PW9HV4A",
    "outputId": "a9fab8ba-86dd-4247-8ad6-490b4bd2c66f"
   },
   "outputs": [
    {
     "name": "stdout",
     "output_type": "stream",
     "text": [
      "9\n"
     ]
    }
   ],
   "source": [
    "pred = np.argmax(prediction) # Получаем индекс самого большого элемента (это итоговая цифра, которую распознала сеть)\n",
    "print(pred)"
   ]
  },
  {
   "cell_type": "code",
   "execution_count": 35,
   "metadata": {
    "colab": {
     "base_uri": "https://localhost:8080/",
     "height": 34
    },
    "id": "72Rbs1E9HeRZ",
    "outputId": "4d75d22e-1c3d-47ac-eac8-fa4e8e78be65"
   },
   "outputs": [
    {
     "name": "stdout",
     "output_type": "stream",
     "text": [
      "9\n"
     ]
    }
   ],
   "source": [
    "print(y_test_org[n_rec]) #выводим правильный ответ, для сравнения"
   ]
  }
 ],
 "metadata": {
  "accelerator": "GPU",
  "colab": {
   "collapsed_sections": [
    "jjqH_JaURnnK",
    "c4pg0HUQCdFk",
    "MMkWv4VhC2ti",
    "iD7hR5hXNLUe",
    "rrWmNM6jKBrc",
    "rstrtRs2O1so",
    "5BUXluCMWpMB",
    "dntk9WK6TbA-",
    "6tP0Iq2NX9qK",
    "c3-PovDMb2TU",
    "n3UgLD14-l72",
    "qLX9aj3eFCPB",
    "Pa2_uq889QCz"
   ],
   "name": "Распознавание рукописных цифр (Университет искусственного интеллекта)",
   "provenance": []
  },
  "kernelspec": {
   "display_name": "Python 3",
   "language": "python",
   "name": "python3"
  },
  "language_info": {
   "codemirror_mode": {
    "name": "ipython",
    "version": 3
   },
   "file_extension": ".py",
   "mimetype": "text/x-python",
   "name": "python",
   "nbconvert_exporter": "python",
   "pygments_lexer": "ipython3",
   "version": "3.8.3"
  }
 },
 "nbformat": 4,
 "nbformat_minor": 1
}
